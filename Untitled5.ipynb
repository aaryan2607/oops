{
  "nbformat": 4,
  "nbformat_minor": 0,
  "metadata": {
    "colab": {
      "provenance": []
    },
    "kernelspec": {
      "name": "python3",
      "display_name": "Python 3"
    },
    "language_info": {
      "name": "python"
    }
  },
  "cells": [
    {
      "cell_type": "markdown",
      "source": [
        "###OOPS Assignment"
      ],
      "metadata": {
        "id": "26nz011-tz6N"
      }
    },
    {
      "cell_type": "markdown",
      "source": [
        "###Q.1 What are the five key concepts of Object-Oriented Programming (OOP)?\n",
        "\n",
        "Ans The five key concepts of Object-Oriented Programming (OOP) are:\n",
        "\n",
        "1.)Classes and Objects:\n",
        "\n",
        "Classes are blue print of templet for creating an object. It defines the properties (attributes) and behaviors (methods) that the objects created from the class will have.\n",
        "\n",
        "Object: An instance of a class, representing a specific entity.\n",
        "\n",
        "2.)Encapsulation:\n",
        "\n",
        "Means bundling of data and methods of class by using some acess modifiers like private, protected, and public to protect the integrity of the data.\n",
        "\n",
        "3.)Abstraction:\n",
        "\n",
        "It is the concept of hiding complex impletation hidinh the unnecessary details and only exposingthr requird .\n",
        "\n",
        "This simplifies interaction with objects and helps in focusing on what an object does rather than how it does it.\n",
        "\n",
        "4.)Inheritance:\n",
        "\n",
        "It refers to process of child receiving the properties of parent class\n",
        "The mechanism by which a new class (subclass) can inherit properties and behaviors from an existing class (superclass). This promotes code reusability and the establishment of hierarchical relationships between classes.\n",
        "\n",
        "5.)Polymorphism :\n",
        "\n",
        "Polymorhism refers to poly mean many and morphism means forms and stae\n",
        "\n",
        "Refers to an object taking several forms depending on the methods / state\n",
        "\n",
        "The ability to define a single interface or method that can be used by objects of different types. It allows methods to be overridden in subclasses to behave differently based on the object’s type, while still maintaining a common interface."
      ],
      "metadata": {
        "id": "4c_zbsLCt5Hc"
      }
    },
    {
      "cell_type": "code",
      "source": [
        "#Q.2Write a Python class for a `Car` with attributes for `make`, `model`, and `year`. Include a method to display the car's information.\n",
        "#Ans\n",
        "class Car:\n",
        "    def __init__(self, make, model, year):\n",
        "\n",
        "        self.make = make\n",
        "        self.model = model\n",
        "        self.year = year\n",
        "\n",
        "    def display_info(self):\n",
        "        print(\"Car Information: \",self.make,self.model,self.year)\n",
        "\n",
        "# Example of displaying the car information\n",
        "car_1 = Car(\"MAHINDRA\", \"THAR ROXX\", 2024)\n",
        "car_1.display_info()"
      ],
      "metadata": {
        "colab": {
          "base_uri": "https://localhost:8080/"
        },
        "id": "5Dj6OAcEubkw",
        "outputId": "d121ce1a-e511-4afb-8f39-091fe9fb37ea"
      },
      "execution_count": 2,
      "outputs": [
        {
          "output_type": "stream",
          "name": "stdout",
          "text": [
            "Car Information:  MAHINDRA THAR ROXX 2024\n"
          ]
        }
      ]
    },
    {
      "cell_type": "markdown",
      "source": [
        "### Q.3 Explain the difference between instance methods and class methods. Provide an example of each.\n",
        "Ans\n",
        "1.)Instance methods:\n",
        "\n",
        " •Operate on individual instances of a class and can access or modify instance-specific data. They use self as the first parameter. An instance method is a function defined inside a class that operates on instances (objects) of that class.\n",
        "\n",
        "•It can access and modify instance-specific data (attributes) using the self parameter, which refers to the current object. Instance methods can perform actions that are specific to the object they are called on.\n",
        "\n",
        "•self is the first parameter and refers to the instance.\n",
        "\n",
        "•It can access or modify instance variables.\n",
        "\n",
        "•It is called on an instance of a class.\n",
        "\n",
        "2.)Class method :\n",
        "\n",
        "•In Python, classes are used to create objects which have properties (attributes) and behaviors (methods).\n",
        "\n",
        "•Methods are functions defined inside a class and can be broadly categorized into two types: Class Methods and Static Methods.\n",
        "\n",
        "•Class methods are methods that are bound to the class and not the instance of the class.\n",
        "\n",
        "•They can access or modify class state that applies across all instances of the class. Class methods are defined using the @classmethod decorator\n",
        "\n",
        "•insted of self we use cls\n",
        "\n",
        "•alternative of init method to pass the data\n",
        "\n",
        "\n"
      ],
      "metadata": {
        "id": "bCYSx1Ffvag0"
      }
    },
    {
      "cell_type": "code",
      "source": [
        "#Example\n",
        "class Dog:\n",
        "    def __init__(self, name):\n",
        "        self.name = name\n",
        "\n",
        "    def bark(self):\n",
        "        return f\"{self.name} says woof!\"\n",
        "my_dog = Dog(\"Buddy\")\n",
        "print(my_dog.bark())\n",
        "class Dog:\n",
        "    number_of_legs = 4\n",
        "\n",
        "    @classmethod\n",
        "    def legs(cls):\n",
        "        return cls.number_of_legs\n",
        "print(Dog.legs())"
      ],
      "metadata": {
        "colab": {
          "base_uri": "https://localhost:8080/"
        },
        "id": "l092bNQJxGqI",
        "outputId": "45ada811-70c2-46bb-f8c7-d0f43f231675"
      },
      "execution_count": 13,
      "outputs": [
        {
          "output_type": "stream",
          "name": "stdout",
          "text": [
            "Buddy says woof!\n",
            "4\n"
          ]
        }
      ]
    },
    {
      "cell_type": "markdown",
      "source": [
        "###Q.4 How does Python implement method overloading? Give an example.\n",
        "\n",
        "Ans Method overloading :\n",
        "Method overloading is the practice of invoking the same method more than once with different parameters. Method overloading is not supported by Python. Even if you overload the method, Python only takes into account the most recent definition. If you overload a method in Python, a\n",
        "Python does not directly support method overloading like some other programming languages. In Python, you cannot define multiple methods with the same name but different signatures (different number or types of parameters). Instead, Python achieves method overloading through default parameters or by using variable arguments TypeError will be raised"
      ],
      "metadata": {
        "id": "dsxfg8YnysuA"
      }
    },
    {
      "cell_type": "code",
      "source": [
        "class Calculator:\n",
        "\n",
        "    def mult(self, a, b=1):\n",
        "        return a * b\n",
        "calc = Calculator()\n",
        "print(calc.mult(5))\n",
        "print(calc.mult(5, 3))"
      ],
      "metadata": {
        "colab": {
          "base_uri": "https://localhost:8080/"
        },
        "id": "GlsW82Kry7Ho",
        "outputId": "1152c78c-cfcf-49d1-d866-5f62da23bc1d"
      },
      "execution_count": 16,
      "outputs": [
        {
          "output_type": "stream",
          "name": "stdout",
          "text": [
            "5\n",
            "15\n"
          ]
        }
      ]
    },
    {
      "cell_type": "markdown",
      "source": [
        "###Q.5 What are the three types of access modifiers in Python? How are they denoted?\n",
        "Ans In python there are three types of acess modifiers that control the visibility of class attributes and methods:\n",
        "\n",
        "\n",
        "Public (no underscore) :\n",
        "Accessible from anywhere: Public attributes and methods can be accessed both inside and outside the class.\n",
        "\n",
        "There No underscore before the attribute or method name.\n",
        "\n",
        "Protected Modifier (_single_underscore) :\n",
        "\n",
        "Accessible within the class and its subclasses: A convention (not enforced by Python) to indicate that the attribute or method is for internal use only, but it can still be accessed outside the class.\n",
        "\n",
        "It is denoted by A single underscore _ before the attribute or method name.\n",
        "\n",
        "Private Modifier (__double_underscore):\n",
        "\n",
        "\n",
        "Accessible only within the class: Private attributes and methods are intended to be fully hidden and cannot be accessed directly from outside the class.\n",
        "\n",
        "it is denoted by double underscore __ before the attribute or method name. Python name-mangles private attributes to make them inaccessible."
      ],
      "metadata": {
        "id": "1UMNSDJWzPh4"
      }
    },
    {
      "cell_type": "code",
      "source": [
        "\n",
        "class Student:\n",
        "    def __init__(self,name):\n",
        "        self.name = name\n",
        "\n",
        "stud = Student(\"Aaryan\")\n",
        "\n",
        "print(stud.name)\n",
        "\n",
        "class Student:\n",
        "    def __init__(self, name):\n",
        "        self._name = name\n",
        "\n",
        "stud_name = Student(\"Swati\")\n",
        "print(stud_name._name)\n",
        "\n",
        "class Student:\n",
        "    def __init__(self, name , degree):\n",
        "        self.name = name\n",
        "\n",
        "        self.__degree = degree\n",
        "std = Student(\"Swaraj\",\"Masters\")\n",
        "print(\"Degree:\",std._Student__degree)"
      ],
      "metadata": {
        "colab": {
          "base_uri": "https://localhost:8080/"
        },
        "id": "nbVmObWkzlr6",
        "outputId": "89ca3ffc-f3c7-48c5-ff8f-3ea0e17a6e72"
      },
      "execution_count": 23,
      "outputs": [
        {
          "output_type": "stream",
          "name": "stdout",
          "text": [
            "Aaryan\n",
            "Swati\n",
            "Degree: Masters\n"
          ]
        }
      ]
    },
    {
      "cell_type": "markdown",
      "source": [
        "###Q.6 Describe the five types of inheritance in Python. Provide a simple example of multiple inheritance.\n",
        "Ans\n",
        "1.)Single inheritance :\n",
        "•Involves one parent class and one child class.\n",
        "\n",
        "•The child class inherits the properties and methods of the parent class.\n",
        "\n",
        "2.)Multiple Inheritance:\n",
        "\n",
        "•A class can inherit from more than one parent class.\n",
        "\n",
        "•The child class inherits properties and methods from all the parent classes.\n",
        "\n",
        "3.)Multilevel Inheritance:\n",
        "\n",
        "•class inherits from another class, which in turn inherits from another class, forming a chain.\n",
        "\n",
        "•A class inherits from a child class or derived class under multilevel inheritance.\n",
        "\n",
        "4.)Hierarchical Inheritance :\n",
        "\n",
        "•A single parent class gives rise to multiple child classes under hierarchical inheritance.\n",
        "\n",
        "•To put it another way, we can say that there is one parent class and several child classes.\n",
        "\n",
        "Multiple child classes inherit from the same parent class.\n",
        "\n",
        "5.)Hybrid Inheritance:\n",
        "\n",
        "•A combination of more than one type of inheritance. For example, a combination of multiple and hierarchical inheritance.\n",
        "\n",
        "•When inheritance consists of multiple types or a combination of different inheritance is called hybrid inheritance"
      ],
      "metadata": {
        "id": "fmNeMRKh0Y-H"
      }
    },
    {
      "cell_type": "code",
      "source": [
        "class ParentClass1():\n",
        "    def method1(self):\n",
        "        print(\"Method 1 of parent class 1\")\n",
        "\n",
        "class ParentClass2():\n",
        "    def method2(self):\n",
        "        print(\"Method 2 of parent class 2\")\n",
        "\n",
        "class ChildClass(ParentClass1,ParentClass2):\n",
        "    def method(self):\n",
        "        print(\"Methode of child class\")\n",
        "\n",
        "child_obj = ChildClass()\n",
        "\n",
        "child_obj.method()\n",
        "\n",
        "child_obj.method1()\n",
        "\n",
        "child_obj.method2()"
      ],
      "metadata": {
        "colab": {
          "base_uri": "https://localhost:8080/"
        },
        "id": "ceh7sxkq1FiE",
        "outputId": "b2628272-b0f9-4188-a884-9e16434a98f5"
      },
      "execution_count": 27,
      "outputs": [
        {
          "output_type": "stream",
          "name": "stdout",
          "text": [
            "Methode of child class\n",
            "Method 1 of parent class 1\n",
            "Method 2 of parent class 2\n"
          ]
        }
      ]
    },
    {
      "cell_type": "markdown",
      "source": [
        "###Q.7 What is the Method Resolution Order (MRO) in Python? How can you retrieve it programmatically?\n",
        "Ans In Python, the Method Resolution Order (MRO) is the order in which the interpreter searches for a method in a class hierarchy, especially when dealing with multiple inheritance.\n",
        "\n",
        "How MRO Works:\n",
        "\n",
        "•Python uses the C3 linearization algorithm to determine the MRO.\n",
        "\n",
        "•This algorithm ensures that a class's MRO respects the inheritance hierarchy and avoids any conflicts.\n",
        "\n",
        "•It prioritizes the child class over its parent classes and follows a left-to-right order when dealing with multiple inheritance.\n"
      ],
      "metadata": {
        "id": "H_CKb35V1dgf"
      }
    },
    {
      "cell_type": "code",
      "source": [
        "class A:\n",
        "    pass\n",
        "\n",
        "class B(A):\n",
        "    pass\n",
        "\n",
        "class C(A):\n",
        "    pass\n",
        "\n",
        "class D(B, C):\n",
        "    pass\n",
        "\n",
        "print(D.__mro__)"
      ],
      "metadata": {
        "colab": {
          "base_uri": "https://localhost:8080/"
        },
        "id": "dDWI5oiJ2SGu",
        "outputId": "593af53a-7905-420c-d99e-be1663f4aeab"
      },
      "execution_count": 32,
      "outputs": [
        {
          "output_type": "stream",
          "name": "stdout",
          "text": [
            "(<class '__main__.D'>, <class '__main__.B'>, <class '__main__.C'>, <class '__main__.A'>, <class 'object'>)\n"
          ]
        }
      ]
    },
    {
      "cell_type": "markdown",
      "source": [
        "###Q.8 Create an abstract base class Shape with an abstract method area(). Then create two subclasses Circle and Rectangle that implement the area() method."
      ],
      "metadata": {
        "id": "9T6niUyO2n0f"
      }
    },
    {
      "cell_type": "code",
      "source": [
        "import abc\n",
        "\n",
        "\n",
        "class Shape:\n",
        "\n",
        "\n",
        "    @abc.abstractmethod\n",
        "    def calculate_area(self):\n",
        "        pass\n",
        "\n",
        "\n",
        "class Rectangle(Shape):\n",
        "\n",
        "    def __init__(self,width,height):\n",
        "        self.width = width\n",
        "        self.height = height\n",
        "\n",
        "    def calculate_area(self):\n",
        "        return self.height * self.width\n",
        "\n",
        "\n",
        "class Circle(Shape):\n",
        "    def __init__(self,radius):\n",
        "        self.radius = radius\n",
        "\n",
        "    def calculate_area(self):\n",
        "        return 3.14*self.radius**2\n",
        "\n",
        "\n",
        "circle = Circle(7)\n",
        "rectangle = Rectangle(4,6)\n",
        "\n",
        "\n",
        "print(\"Area of the Circle is :\", circle.calculate_area())\n",
        "print(\"Area of the reactangle: \", rectangle.calculate_area())"
      ],
      "metadata": {
        "colab": {
          "base_uri": "https://localhost:8080/"
        },
        "id": "J4uvTsTn2o7D",
        "outputId": "3e076e08-dc00-42b5-92a1-117acd342229"
      },
      "execution_count": 38,
      "outputs": [
        {
          "output_type": "stream",
          "name": "stdout",
          "text": [
            "Area of the Circle is : 153.86\n",
            "Area of the reactangle:  24\n"
          ]
        }
      ]
    },
    {
      "cell_type": "markdown",
      "source": [
        "###Q.9 Demonstrate polymorphism by creating a function that can work with different shape objects to calculate and print their areas."
      ],
      "metadata": {
        "id": "TnHCoOiH3HH_"
      }
    },
    {
      "cell_type": "code",
      "source": [
        "import abc\n",
        "\n",
        "class Shape:\n",
        "\n",
        "\n",
        "    @abc.abstractmethod\n",
        "    def area(self):\n",
        "        pass\n",
        "\n",
        "class Square(Shape):\n",
        "    def __init__(self,side):\n",
        "        self.side = side\n",
        "\n",
        "    def area(self):\n",
        "        return self.side**2\n",
        "\n",
        "class Rectangle(Shape):\n",
        "    def __init__(self,width,height):\n",
        "        self.width = width\n",
        "        self.height = height\n",
        "\n",
        "    def area(self):\n",
        "        return self.height * self.width\n",
        "\n",
        "class Circle(Shape):\n",
        "    def __init__(self, radius):\n",
        "        self.radius = radius\n",
        "\n",
        "    def area(self):\n",
        "        return 3.14*self.radius**2\n",
        "\n",
        "\n",
        "\n",
        "circle = Circle(59)\n",
        "print(\"Area of the circle is:\",circle.area())\n",
        "\n",
        "square = Square(28)\n",
        "print(\"The area of the square is:\", square.area())\n",
        "\n",
        "rect = Rectangle(32,43)\n",
        "print(\"Area of the rectangle:\", rect.area())"
      ],
      "metadata": {
        "colab": {
          "base_uri": "https://localhost:8080/"
        },
        "id": "vGckH7RX3ISU",
        "outputId": "acbd7e05-bf1d-4017-d41e-1641a22a32c5"
      },
      "execution_count": 42,
      "outputs": [
        {
          "output_type": "stream",
          "name": "stdout",
          "text": [
            "Area of the circle is: 10930.34\n",
            "The area of the square is: 784\n",
            "Area of the rectangle: 1376\n"
          ]
        }
      ]
    },
    {
      "cell_type": "markdown",
      "source": [
        "###Q.10. Implement encapsulation in a BankAccount class with private attributes for balance and account_number. Include methods for deposit, withdrawal,and balance inquiry."
      ],
      "metadata": {
        "id": "ewerR4Zq3fKf"
      }
    },
    {
      "cell_type": "code",
      "source": [
        "\n",
        "# another use case\n",
        "\n",
        "class Bank:\n",
        "    def __init__(self,ac_no, balance=0):\n",
        "\n",
        "        self.__ac_no = ac_no\n",
        "        self.__balance= balance\n",
        "\n",
        "    def deposite(self,amount):\n",
        "\n",
        "        if amount > 0:\n",
        "            self.__balance += amount\n",
        "            print(\"The Amount you have deposited is :\",amount,\"Total balance :\", self.__balance)\n",
        "        else :\n",
        "            print(\"PLease deposite valid Amount\",\"Total balance is:\", self.__balance )\n",
        "\n",
        "\n",
        "    def withdraw(self,amount):\n",
        "        if self.__balance >= amount:\n",
        "            self.__balance = self.__balance - amount\n",
        "            print(\"You have withdraw the amount of :\", amount, \"New balance is\", self.__balance )\n",
        "        else:\n",
        "            print(\"Insuficient Balance or Enter valid amount\")\n",
        "\n",
        "    def check_balance(self):\n",
        "        print (\"Your current Balance is:\", self.__balance)\n",
        "\n",
        "account = Bank(2232211, 795000.75)\n",
        "\n",
        "account.deposite(43500)\n",
        "\n",
        "account.withdraw(6000)\n",
        "\n",
        "account.check_balance()"
      ],
      "metadata": {
        "colab": {
          "base_uri": "https://localhost:8080/"
        },
        "id": "JbtyBy1a3k6B",
        "outputId": "cee64d31-cf4f-4d22-d039-51fa4bdb6788"
      },
      "execution_count": 45,
      "outputs": [
        {
          "output_type": "stream",
          "name": "stdout",
          "text": [
            "The Amount you have deposited is : 43500 Total balance : 838500.75\n",
            "You have withdraw the amount of : 6000 New balance is 832500.75\n",
            "Your current Balance is: 832500.75\n"
          ]
        }
      ]
    },
    {
      "cell_type": "markdown",
      "source": [
        "###Q.11 Write a class that overrides the __str__ and __add__ magic methods. What will these methods allow you to do?\n",
        "Ans\n",
        "\n",
        "• Dunder methods, also known as magic methods or special methods, in Python are special reserved methods that are surrounded by double underscores ( method).\n",
        "\n",
        "• These methods allow you to define how instances of your classes behave when they are used with built-in Python functions or operators.\n",
        "\n",
        "• Understanding dunder methods is crucial for creating custom objects that behave like built-in types or implementing operator overloading in Python.\n",
        "\n"
      ],
      "metadata": {
        "id": "qRkS2yk74Udx"
      }
    },
    {
      "cell_type": "code",
      "source": [
        "class Point:\n",
        "    def __init__(self, x, y):\n",
        "        self.x = x\n",
        "        self.y = y\n",
        "\n",
        "    def __str__(self):\n",
        "         return f\"Point({self.x}, {self.y})\"\n",
        "\n",
        "\n",
        "\n",
        "    def __add__(self, other):\n",
        "\n",
        "        if isinstance(other, Point):\n",
        "            return Point(self.x + other.x, self.y + other.y)\n",
        "        return NotImplemented\n",
        "\n",
        "p1 = Point(7 , 3)\n",
        "p2 = Point(5 , 2)\n",
        "\n",
        "print(p1)\n",
        "print(p2)\n",
        "p3 = p1+p2\n",
        "print(p3)"
      ],
      "metadata": {
        "colab": {
          "base_uri": "https://localhost:8080/"
        },
        "id": "H78bSzfa4WeV",
        "outputId": "54b18bc9-df51-4dad-a7d6-39eff7c538a5"
      },
      "execution_count": 48,
      "outputs": [
        {
          "output_type": "stream",
          "name": "stdout",
          "text": [
            "Point(7, 3)\n",
            "Point(5, 2)\n",
            "Point(12, 5)\n"
          ]
        }
      ]
    },
    {
      "cell_type": "markdown",
      "source": [
        "###Q.12 Create a decorator that measures and prints the execution time of a function."
      ],
      "metadata": {
        "id": "hrjMrmbv44KK"
      }
    },
    {
      "cell_type": "code",
      "source": [
        "import time\n",
        "def timer_decorator(func):\n",
        "    def timer():\n",
        "        start = time.time()\n",
        "        func()\n",
        "        end = time.time()\n",
        "        print(\"The time for executing the code\",end-start)\n",
        "    return timer\n",
        "\n",
        "\n",
        "@timer_decorator\n",
        "def func_test():\n",
        "    print(1011010457*1000710+421+447-41/47+6274*2)\n",
        "\n",
        "func_test()"
      ],
      "metadata": {
        "colab": {
          "base_uri": "https://localhost:8080/"
        },
        "id": "RPPnG7Ci4vJr",
        "outputId": "e855b71f-bae9-438e-bfe0-9104be811e1a"
      },
      "execution_count": 53,
      "outputs": [
        {
          "output_type": "stream",
          "name": "stdout",
          "text": [
            "1011728274437885.1\n",
            "The time for executing the code 0.0017426013946533203\n"
          ]
        }
      ]
    },
    {
      "cell_type": "markdown",
      "source": [
        "###Q.13 Explain the concept of the Diamond Problem in multiple inheritance. How does Python resolve it?\n",
        "Ans\n",
        "\n",
        "• The diamond problem is a specific issue that can arise in programming languages that support multiple inheritance, including Python.\n",
        "\n",
        "• It occurs when a class inherits from two or more classes that have a common base class.\n",
        "\n",
        "• This can lead to ambiguity in method resolution, causing conflicts and making it unclear which version of a method should be used.\n",
        "\n",
        "• To mitigate the diamond problem, Python uses a method resolution order (MRO) algorithm called C3 linearization.\n",
        "\n",
        "• The MRO determines the order in which the base classes are searched for a method or attribute. It follows a specific set of rules to ensure a consistent and unambiguous order."
      ],
      "metadata": {
        "id": "sikaPAOT5Pg3"
      }
    },
    {
      "cell_type": "code",
      "source": [
        "class A:\n",
        "    def method(self):\n",
        "        print(\"Method of class A\")\n",
        "class B(A):\n",
        "    def method(self):\n",
        "        print(\"Method of class B\")\n",
        "class C(A):\n",
        "    def method(self):\n",
        "        print(\"Method of class C\")\n",
        "class D(B,C):\n",
        "    pass\n",
        "\n",
        "d = D()\n",
        "d.method()\n",
        "\n",
        "print(D.mro())"
      ],
      "metadata": {
        "colab": {
          "base_uri": "https://localhost:8080/"
        },
        "id": "w37c7a2Q5hk-",
        "outputId": "e66efa16-d17e-44f5-99bb-d7fda6b9eb43"
      },
      "execution_count": 58,
      "outputs": [
        {
          "output_type": "stream",
          "name": "stdout",
          "text": [
            "Method of class B\n",
            "[<class '__main__.D'>, <class '__main__.B'>, <class '__main__.C'>, <class '__main__.A'>, <class 'object'>]\n"
          ]
        }
      ]
    },
    {
      "cell_type": "markdown",
      "source": [
        "###Q.14 Write a class method that keeps track of the number of instances created from a class."
      ],
      "metadata": {
        "id": "EREpOCPS5vLE"
      }
    },
    {
      "cell_type": "code",
      "source": [
        "class InstanceCounter:\n",
        "\n",
        "    inst_count = 0\n",
        "\n",
        "    def __init__(self):\n",
        "        InstanceCounter.inst_count = InstanceCounter.inst_count + 2\n",
        "\n",
        "    @classmethod\n",
        "    def get_inst_count(cls):\n",
        "\n",
        "        return cls.inst_count\n",
        "obj1 = InstanceCounter()\n",
        "obj2 = InstanceCounter()\n",
        "obj3 = InstanceCounter()\n",
        "print(InstanceCounter.get_inst_count())"
      ],
      "metadata": {
        "colab": {
          "base_uri": "https://localhost:8080/"
        },
        "id": "iCLT5eSJ5wO2",
        "outputId": "ac98829e-a007-4fbc-daa7-a8bfb7312efe"
      },
      "execution_count": 62,
      "outputs": [
        {
          "output_type": "stream",
          "name": "stdout",
          "text": [
            "6\n"
          ]
        }
      ]
    },
    {
      "cell_type": "markdown",
      "source": [
        "###Q. 15. Implement a static method in a class that checks if a given year is a leap year."
      ],
      "metadata": {
        "id": "VcRefctv6JVi"
      }
    },
    {
      "cell_type": "code",
      "source": [
        "class Leap_Year:\n",
        "    @staticmethod\n",
        "    def chk_leap(year):\n",
        "        if year % 4 ==0:\n",
        "            if year % 100 == 0:\n",
        "                if year % 400 ==0:\n",
        "                    return True\n",
        "                else :\n",
        "                   return False\n",
        "            else:\n",
        "                return True\n",
        "        else:\n",
        "           return False\n",
        "\n",
        "\n",
        "print(Leap_Year.chk_leap(2000))\n",
        "print(Leap_Year.chk_leap(1978))\n",
        "print(Leap_Year.chk_leap(2004))\n",
        "print(Leap_Year.chk_leap(2007))"
      ],
      "metadata": {
        "colab": {
          "base_uri": "https://localhost:8080/"
        },
        "id": "wXBRch0N6LxP",
        "outputId": "713ef710-ab93-435d-9e5d-deafedfa0f93"
      },
      "execution_count": 67,
      "outputs": [
        {
          "output_type": "stream",
          "name": "stdout",
          "text": [
            "True\n",
            "False\n",
            "True\n",
            "False\n"
          ]
        }
      ]
    },
    {
      "cell_type": "code",
      "source": [],
      "metadata": {
        "id": "IzBgYIyA6fVf"
      },
      "execution_count": null,
      "outputs": []
    }
  ]
}